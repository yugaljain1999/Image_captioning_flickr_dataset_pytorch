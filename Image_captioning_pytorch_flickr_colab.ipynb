{
  "nbformat": 4,
  "nbformat_minor": 0,
  "metadata": {
    "colab": {
      "name": "Image_captioning_pytorch_flickr_colab.ipynb",
      "provenance": [],
      "collapsed_sections": [],
      "mount_file_id": "1rtbWuT1cA94mJDaGr-brAPd31VGHvnb0",
      "authorship_tag": "ABX9TyN4Y8ufQlIDZVeYfyW+kebR",
      "include_colab_link": true
    },
    "kernelspec": {
      "name": "python3",
      "display_name": "Python 3"
    },
    "accelerator": "GPU"
  },
  "cells": [
    {
      "cell_type": "markdown",
      "metadata": {
        "id": "view-in-github",
        "colab_type": "text"
      },
      "source": [
        "<a href=\"https://colab.research.google.com/github/yugaljain1999/Image_captioning_flickr_dataset_pytorch/blob/main/Image_captioning_pytorch_flickr_colab.ipynb\" target=\"_parent\"><img src=\"https://colab.research.google.com/assets/colab-badge.svg\" alt=\"Open In Colab\"/></a>"
      ]
    },
    {
      "cell_type": "code",
      "metadata": {
        "id": "Oy6r42RU882h",
        "colab": {
          "base_uri": "https://localhost:8080/"
        },
        "outputId": "2c1f694d-e8d2-4a48-d3c4-286a7649e4de"
      },
      "source": [
        "# Clone github repository\r\n",
        "!git clone https://github.com/yugaljain1999/Image_captioning_flickr_dataset_pytorch\r\n",
        "# Download Flickr8k images dataset and unzip to Image_captioning/Flickr8k_Dataset\r\n",
        "!wget https://drive.google.com/drive/folders/1vs-E-oYuM7XvVjjiD4Baw4JF8UPSqQMU?usp=sharing\r\n",
        "!cd /content/drive/MyDrive/Image_captioning\r\n",
        "!python train.py"
      ],
      "execution_count": 130,
      "outputs": [
        {
          "output_type": "stream",
          "text": [
            "<torch.utils.data.dataloader.DataLoader object at 0x7f1de56ee4e0>\n",
            "2020-12-16 18:44:20.277414: I tensorflow/stream_executor/platform/default/dso_loader.cc:48] Successfully opened dynamic library libcudart.so.10.1\n",
            "Epoch 0/20 \t loss:4.508669572540477\n",
            "Epoch 1/20 \t loss:3.96985696689992\n",
            "Epoch 2/20 \t loss:3.6902216054216215\n",
            "Epoch 3/20 \t loss:3.516710901562172\n",
            "Epoch 4/20 \t loss:3.3739027119890044\n",
            "Epoch 5/20 \t loss:3.2739385185362417\n",
            "Epoch 6/20 \t loss:3.187243620698318\n",
            "Epoch 7/20 \t loss:3.115961694641958\n",
            "Epoch 8/20 \t loss:3.0487393269894327\n",
            "Epoch 9/20 \t loss:2.9908957282199133\n",
            "Epoch 10/20 \t loss:2.9407005672213398\n",
            "Epoch 11/20 \t loss:2.89063799180059\n",
            "Epoch 12/20 \t loss:2.8468763961764134\n",
            "Epoch 13/20 \t loss:2.807853166492248\n",
            "Epoch 14/20 \t loss:2.7711985677606448\n",
            "Epoch 15/20 \t loss:2.7334247538937797\n",
            "Epoch 16/20 \t loss:2.7017518652080157\n",
            "Epoch 17/20 \t loss:2.6746409211815996\n",
            "Epoch 18/20 \t loss:2.6453210464880357\n",
            "Epoch 19/20 \t loss:2.6150631278376038\n"
          ],
          "name": "stdout"
        }
      ]
    },
    {
      "cell_type": "code",
      "metadata": {
        "colab": {
          "base_uri": "https://localhost:8080/"
        },
        "id": "3XhVV8QBo9T0",
        "outputId": "1d18bf78-b1cd-4924-dad6-f2c7408bffa4"
      },
      "source": [
        "!cd /content/drive/MyDrive/Image_captioning\r\n",
        "# run runner.py to test on single image\r\n",
        "!python runner.py"
      ],
      "execution_count": 136,
      "outputs": [
        {
          "output_type": "stream",
          "text": [
            "2020-12-16 20:01:29.786567: I tensorflow/stream_executor/platform/default/dso_loader.cc:48] Successfully opened dynamic library libcudart.so.10.1\n",
            "1358\n",
            "doing from station action down rail carefully icy <EOS> sheet school seat scooter slope awning other next beam watch beam\n"
          ],
          "name": "stdout"
        }
      ]
    }
  ]
}